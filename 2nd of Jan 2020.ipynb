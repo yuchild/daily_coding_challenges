{
 "cells": [
  {
   "cell_type": "code",
   "execution_count": 1,
   "metadata": {},
   "outputs": [],
   "source": [
    "def look_and_say(num):\n",
    "    result = ''\n",
    "    \n",
    "    first = num[0]\n",
    "    remainder = num[1:] + ' '\n",
    "    count = 1\n",
    "    \n",
    "    for char in remainder:\n",
    "        if char != first:\n",
    "            result += str(count) + first\n",
    "            count = 1\n",
    "        else:\n",
    "            count +=1\n",
    "            \n",
    "    return result\n",
    "\n",
    "def compute(num):\n",
    "    result = '1'\n",
    "    \n",
    "    for i in range(1, num):\n",
    "        result = look_and_say(result)\n",
    "    \n",
    "    return result"
   ]
  },
  {
   "cell_type": "code",
   "execution_count": 8,
   "metadata": {},
   "outputs": [
    {
     "data": {
      "text/plain": [
       "'1212'"
      ]
     },
     "execution_count": 8,
     "metadata": {},
     "output_type": "execute_result"
    }
   ],
   "source": [
    "compute(4)"
   ]
  },
  {
   "cell_type": "markdown",
   "metadata": {},
   "source": []
  }
 ],
 "metadata": {
  "kernelspec": {
   "display_name": "Python 3",
   "language": "python",
   "name": "python3"
  },
  "language_info": {
   "codemirror_mode": {
    "name": "ipython",
    "version": 3
   },
   "file_extension": ".py",
   "mimetype": "text/x-python",
   "name": "python",
   "nbconvert_exporter": "python",
   "pygments_lexer": "ipython3",
   "version": "3.7.3"
  }
 },
 "nbformat": 4,
 "nbformat_minor": 2
}
